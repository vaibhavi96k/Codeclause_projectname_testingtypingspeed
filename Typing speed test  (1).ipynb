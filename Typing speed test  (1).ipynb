{
 "cells": [
  {
   "cell_type": "code",
   "execution_count": null,
   "metadata": {},
   "outputs": [
    {
     "name": "stdout",
     "output_type": "stream",
     "text": [
      "-----------Typing Speed test------------\n",
      "Time in Sec : 10.44\n",
      "Speed in WPS : 22.99\n"
     ]
    }
   ],
   "source": [
    "from tkinter import *\n",
    "import random\n",
    "from timeit import default_timer \n",
    "import difflib\n",
    " \n",
    "print(\"-----------Typing Speed test------------\")\n",
    " \n",
    "root=Tk()\n",
    "root.title('Typing test')\n",
    "root.geometry(\"400x400\")\n",
    " \n",
    "entered=StringVar() \n",
    " \n",
    "greet = Label(root, font = ('arial', 30, 'bold'), text = \"Welcome!\")\n",
    "greet.grid(row = 0,columnspan = 3)\n",
    " \n",
    "words=['We are developing Python project', 'This is Windows Os', 'We are Hiring', 'Lets Play a game','Python is a programming language', 'We love Coding', 'This is an amazing Article', 'I am an Intern', 'Lets check the Output', 'we are Compiling this program' ]\n",
    "\n",
    "word=random.choice(words)\n",
    " \n",
    "def check():\n",
    "    global entered\n",
    "    global word\n",
    "    global start\n",
    " \n",
    "    string=f\"{entered.get()}\"\n",
    "    end=  default_timer()\n",
    "    time= round(end-start,2)\n",
    "    print(\"Time in Sec :\",time)\n",
    "    speed=round(len(word.split())*60/time,2)\n",
    "    print(\"Speed in WPS :\",speed)\n",
    " \n",
    "    if string==word:\n",
    "        Msg1 =\"Time= \" + str(time) + ' seconds'\n",
    "        Msg2=\" Accuracy= 100% \"\n",
    "        Msg3= \" Speed= \" + str(speed) + 'wpm' \n",
    " \n",
    "    else:\n",
    "        accuracy=difflib.SequenceMatcher(None,word,string).ratio()\n",
    "        accuracy=str(round(accuracy*100,2))\n",
    "        Msg1 =\"Time= \"+ str(time) + ' seconds'\n",
    "        Msg2=\" Accuracy= \" + accuracy + '%'\n",
    "        Msg3= \" Speed= \" + str(speed) + ' wpm' #words per minute \n",
    " \n",
    "    \n",
    "    label=Label(root, font = ('arial', 15, 'bold'), text = Msg1)\n",
    "    label.grid(row = 7, columnspan = 3)\n",
    " \n",
    "    label=Label(root, font = ('arial', 15, 'bold'), text = Msg2)\n",
    "    label.grid(row = 8, columnspan = 3)\n",
    " \n",
    "    label=Label(root, font = ('arial', 15, 'bold'), text = Msg3)\n",
    "    label.grid(row = 9, columnspan = 3)\n",
    "   \n",
    "def play():\n",
    "    global word\n",
    "    global start\n",
    "    global entered  \n",
    " \n",
    "    label=Label(root, font = ('arial', 15), text = \"Type here\")\n",
    "    label.grid(row = 5, column=1)\n",
    " \n",
    "    entered=StringVar() \n",
    "    enter=Entry(root,textvariable=entered,font =('arial', 15),width=20)\n",
    "    enter.grid(row=5,column=3)\n",
    " \n",
    "    btn = Button(root, text = \"Check\",command=check,bg=\"DodgerBlue2\",fg=\"white\", font = ('arial', 10))\n",
    "    btn.grid(row = 6,columnspan = 6)\n",
    " \n",
    " \n",
    "label=Label(root, font = ('arial', 20, 'bold'), text = word)\n",
    "label.grid(row = 3, columnspan = 3)\n",
    " \n",
    " \n",
    "btn = Button(root, text = \" Start typing\",command=play,bg=\"DodgerBlue2\",fg=\"white\", font = ('arial', 10))\n",
    "btn.grid(row = 4,columnspan = 6)\n",
    "start= default_timer()\n",
    " \n",
    "mainloop()"
   ]
  },
  {
   "cell_type": "code",
   "execution_count": null,
   "metadata": {},
   "outputs": [],
   "source": []
  },
  {
   "cell_type": "code",
   "execution_count": null,
   "metadata": {},
   "outputs": [],
   "source": []
  }
 ],
 "metadata": {
  "kernelspec": {
   "display_name": "Python 3",
   "language": "python",
   "name": "python3"
  },
  "language_info": {
   "codemirror_mode": {
    "name": "ipython",
    "version": 3
   },
   "file_extension": ".py",
   "mimetype": "text/x-python",
   "name": "python",
   "nbconvert_exporter": "python",
   "pygments_lexer": "ipython3",
   "version": "3.7.4"
  }
 },
 "nbformat": 4,
 "nbformat_minor": 2
}
